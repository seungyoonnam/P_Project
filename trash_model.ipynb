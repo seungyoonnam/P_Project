{
 "cells": [
  {
   "cell_type": "code",
   "execution_count": 1,
   "id": "4de0826f-2978-47dc-ae36-c6716f91cde8",
   "metadata": {},
   "outputs": [],
   "source": [
    "import os\n",
    "import zipfile\n",
    "import json\n",
    "import pandas as pd"
   ]
  },
  {
   "cell_type": "code",
   "execution_count": 2,
   "id": "b0a222a6-d106-4c3b-9c38-6aa9565837f1",
   "metadata": {},
   "outputs": [],
   "source": [
    "from sklearn.preprocessing import LabelEncoder\n"
   ]
  },
  {
   "cell_type": "code",
   "execution_count": 3,
   "id": "b1afd8de-aafa-407c-8e7c-3cb902e382db",
   "metadata": {},
   "outputs": [],
   "source": [
    "Training_raw_path = 'C:/Users/user/Desktop/과제/data/146.낚시성 기사 탐지 데이터/01.정식개방데이터/Training/01.원천데이터/'\n",
    "Training_labeling_path = 'C:/Users/user/Desktop/과제/data/146.낚시성 기사 탐지 데이터/01.정식개방데이터/Training/02.라벨링데이터/'\n",
    "Validation_raw_path = 'C:/Users/user/Desktop/과제/data/146.낚시성 기사 탐지 데이터/01.정식개방데이터/Validation/01.원천데이터/'\n",
    "Validation_labeling_path = 'C:/Users/user/Desktop/과제/data/146.낚시성 기사 탐지 데이터/01.정식개방데이터/Validation/02.라벨링데이터/'"
   ]
  },
  {
   "cell_type": "code",
   "execution_count": 4,
   "id": "8b3a5d67-4081-4b24-b478-c72676a42c17",
   "metadata": {},
   "outputs": [],
   "source": [
    "Training_raw_list = []\n",
    "Training_labeling_list = []\n",
    "Validation_raw_list = []\n",
    "Validation_labeling_list = []\n",
    "\n",
    "\n",
    "# 데이터 다 읽어오는 함수\n",
    "# 근데 AI 허브 홈페이지에서랑 내가 읽는 파일의 갯수랑 다르다...\n",
    "def process_read_file(directory_path, data_list):\n",
    "    for file_name in os.listdir(directory_path):\n",
    "        if file_name.endswith('.zip'):\n",
    "            zip_file_path = os.path.join(directory_path, file_name)\n",
    "\n",
    "            with zipfile.ZipFile(zip_file_path, 'r') as zip_ref:\n",
    "                # ZIP 파일 내의 모든 파일 목록\n",
    "                file_list = zip_ref.namelist()\n",
    "\n",
    "                # 각 JSON 파일에 접근\n",
    "                for file_name in file_list:\n",
    "                    # JSON 파일인 경우에만 처리\n",
    "                    if file_name.endswith('.json'):\n",
    "                        with zip_ref.open(file_name) as json_file:\n",
    "                            # JSON 파일 읽기\n",
    "                            json_data = json.load(json_file)\n",
    "\n",
    "                            # 필요한 정보에 접근\n",
    "                            news_id = json_data['sourceDataInfo']['newsID'] #뉴스 파일 아이디\n",
    "                            news_type = json_data['sourceDataInfo'][\"useType\"] #  1 = 낚시성,  2 = 비낚시성\n",
    "                            news_title = json_data['sourceDataInfo']['newsTitle']\n",
    "                            news_content = json_data['sourceDataInfo']['newsContent']\n",
    "                            news_category = json_data['sourceDataInfo']['newsCategory']\n",
    "                            news_sentence_count = json_data['sourceDataInfo']['sentenceCount']\n",
    "                            news_pattern = json_data['sourceDataInfo']['processPattern']\n",
    "                            \n",
    "                            \n",
    "                            #라벨링 데이터는 'clickbaitClass 추가'\n",
    "                            if 'labeledDataInfo' in json_data and 'clickbaitClass' in json_data['labeledDataInfo']:\n",
    "                                clickbaitClass = json_data['labeledDataInfo']['clickbaitClass']\n",
    "                                \n",
    "                                data_list.append({\n",
    "                                    'FileName': news_id,\n",
    "                                    'NewsType' : news_type,\n",
    "                                    'NewsTitle': news_title,\n",
    "                                    'NewsCategory' : news_category,\n",
    "                                    'NewsContent': news_content,\n",
    "                                    'SentenceCount' : news_sentence_count,\n",
    "                                    'clickbaitClass' : clickbaitClass,\n",
    "                                    'newsPattern' : news_pattern,\n",
    "                                })\n",
    "                            #raw 데이터\n",
    "                            else:\n",
    "                                data_list.append({\n",
    "                                    'FileName': news_id,\n",
    "                                    'NewsType' : news_type,\n",
    "                                    'NewsTitle': news_title,\n",
    "                                    'NewsCategory' : news_category,\n",
    "                                    'NewsContent': news_content,\n",
    "                                    'SentenceCount' : news_sentence_count,\n",
    "                                    'newsPattern' : news_pattern,\n",
    "                                })\n",
    "                            \n"
   ]
  },
  {
   "cell_type": "code",
   "execution_count": 5,
   "id": "cf4798ff-e308-4276-b9eb-39815da9778a",
   "metadata": {},
   "outputs": [],
   "source": [
    "#process_read_file(Training_raw_path, Training_raw_list)\n",
    "process_read_file(Training_labeling_path, Training_labeling_list)\n",
    "#process_read_file(Validation_raw_path, Validation_raw_list)\n",
    "#process_read_file(Validation_labeling_path, Validation_labeling_list)"
   ]
  },
  {
   "cell_type": "code",
   "execution_count": 6,
   "id": "c8b1a714-fdd6-48bb-9fe9-7f6699ba8fe1",
   "metadata": {},
   "outputs": [],
   "source": [
    "# 각 데이터를 df로 만들어 주기\n",
    "#Training_raw_df = pd.DataFrame(Training_raw_list)\n",
    "Training_labeling_df = pd.DataFrame(Training_labeling_list)\n",
    "#Validation_raw_df = pd.DataFrame(Validation_raw_list)\n",
    "#Validation_labeling_df = pd.DataFrame(Validation_labeling_list)"
   ]
  },
  {
   "cell_type": "code",
   "execution_count": 7,
   "id": "d1c08f03-6387-41c1-9994-8173d84ea569",
   "metadata": {},
   "outputs": [
    {
     "name": "stdout",
     "output_type": "stream",
     "text": [
      "586741\n"
     ]
    }
   ],
   "source": [
    "#   AI 허브에서의 데이터 갯수 raw part1 = 364,333, raw part2 = 369,094, validate part1 = 364,333, validate part1 = 369,094\n",
    "# 완전 다르쥬..\n",
    "#print(len(Training_raw_df), len(Training_labeling_df), len(Validation_raw_df), len(Validation_labeling_df))\n",
    "print(len(Training_labeling_df))"
   ]
  },
  {
   "cell_type": "code",
   "execution_count": 8,
   "id": "73e328aa-87ca-4cfc-b7cd-8be9a79b85a5",
   "metadata": {},
   "outputs": [
    {
     "name": "stdout",
     "output_type": "stream",
     "text": [
      "newsPattern\n",
      "00    290693\n",
      "99    215833\n",
      "24     16215\n",
      "11     14863\n",
      "12     11685\n",
      "23      9856\n",
      "21      9145\n",
      "22      4893\n",
      "15      4228\n",
      "14      3696\n",
      "13      3554\n",
      "16      2080\n",
      "Name: count, dtype: int64\n"
     ]
    }
   ],
   "source": [
    "pattern_counts = Training_labeling_df['newsPattern'].value_counts()\n",
    "print(pattern_counts)\n",
    "\n",
    "# 00 = 비낚시성인니까 패턴이 없음, 99 = 낚시성인데 뭔 패턴인지 모름 ... 나머지는 뭐 다 나와있음"
   ]
  },
  {
   "cell_type": "code",
   "execution_count": 9,
   "id": "96e78c46-fc78-4cfb-a358-ce41c2230e6b",
   "metadata": {
    "scrolled": true
   },
   "outputs": [
    {
     "name": "stdout",
     "output_type": "stream",
     "text": [
      "586741\n"
     ]
    }
   ],
   "source": [
    "# 데이터프레임 딴거로 카피\n",
    "dff = Training_labeling_df.copy()\n",
    "print(len(dff))"
   ]
  },
  {
   "cell_type": "code",
   "execution_count": 10,
   "id": "024b7c76-70d4-4c36-a290-b049234da5bb",
   "metadata": {},
   "outputs": [
    {
     "name": "stdout",
     "output_type": "stream",
     "text": [
      "['00' '11' '12' '13' '14' '15' '16' '21' '22' '23' '24' '99']\n"
     ]
    }
   ],
   "source": [
    "#라벨링\n",
    "label_encoder = LabelEncoder()\n",
    "dff['newsPattern'] = label_encoder.fit_transform(dff['newsPattern'])\n",
    "\n",
    "# 각 숫자에 대응하는 원래 클래스 확인\n",
    "pattern_classes = label_encoder.classes_\n",
    "print(pattern_classes)\n"
   ]
  },
  {
   "cell_type": "code",
   "execution_count": 11,
   "id": "22dc4e19-7bdb-4708-9910-fe32345fcc8d",
   "metadata": {},
   "outputs": [
    {
     "name": "stdout",
     "output_type": "stream",
     "text": [
      "newsPattern\n",
      "0     290693\n",
      "11    215833\n",
      "10     16215\n",
      "1      14863\n",
      "2      11685\n",
      "9       9856\n",
      "7       9145\n",
      "8       4893\n",
      "5       4228\n",
      "4       3696\n",
      "3       3554\n",
      "6       2080\n",
      "Name: count, dtype: int64\n"
     ]
    }
   ],
   "source": [
    "dff_pattern_counts = dff['newsPattern'].value_counts()\n",
    "print(dff_pattern_counts)\n",
    "\n",
    "# 0 => 00 / 1 => 11 / 2 => 12 / 3 => 13 / 4 => 14 / 5 => 15 / 6 => 16 / 7 => 21 / 8 => 22 / 9 => 23 / 10 => 24 / 11 => 99"
   ]
  },
  {
   "cell_type": "code",
   "execution_count": 12,
   "id": "87b9bb8f-5251-4001-a7da-145ac96515d0",
   "metadata": {},
   "outputs": [
    {
     "data": {
      "text/plain": [
       "58674"
      ]
     },
     "execution_count": 12,
     "metadata": {},
     "output_type": "execute_result"
    }
   ],
   "source": [
    "sampled_data = dff.sample(frac=0.1, random_state=42)\n",
    "\n",
    "len(sampled_data)"
   ]
  },
  {
   "cell_type": "code",
   "execution_count": 13,
   "id": "be191d7f-495a-4541-abc1-2e00fc96b372",
   "metadata": {},
   "outputs": [
    {
     "name": "stdout",
     "output_type": "stream",
     "text": [
      "newsPattern\n",
      "0     28897\n",
      "11    21654\n",
      "10     1654\n",
      "1      1543\n",
      "2      1156\n",
      "9       971\n",
      "7       964\n",
      "8       489\n",
      "5       398\n",
      "4       374\n",
      "3       346\n",
      "6       228\n",
      "Name: count, dtype: int64\n"
     ]
    }
   ],
   "source": [
    "asd = sampled_data['newsPattern'].value_counts()\n",
    "print(asd)\n",
    "\n",
    "# 0 => 00 / 1 => 11 / 2 => 12 / 3 => 13 / 4 => 14 / 5 => 15 / 6 => 16 / 7 => 21 / 8 => 22 / 9 => 23 / 10 => 24 / 11 => 99"
   ]
  },
  {
   "cell_type": "code",
   "execution_count": 20,
   "id": "9a15ffe4-69cd-49dd-b39b-2f055cd3c97a",
   "metadata": {},
   "outputs": [
    {
     "name": "stderr",
     "output_type": "stream",
     "text": [
      "100%|██████████████████████████████████████████████████████████████████████████| 58674/58674 [2:09:15<00:00,  7.57it/s]\n"
     ]
    }
   ],
   "source": [
    "from tqdm import tqdm\n",
    "from konlpy.tag import Okt\n",
    "# Okt 객체 생성\n",
    "okt = Okt()\n",
    "\n",
    "# 형태소 분석을 데이터프레임에 적용\n",
    "tqdm.pandas()  # tqdm을 사용하여 진행 바를 표시합니다.\n",
    "sampled_data['morphs'] = sampled_data['NewsContent'].progress_apply(lambda x: okt.morphs(x))\n"
   ]
  },
  {
   "cell_type": "code",
   "execution_count": 14,
   "id": "c916cfc9-41f7-4449-8ae3-03eeb4719a4f",
   "metadata": {},
   "outputs": [
    {
     "name": "stdout",
     "output_type": "stream",
     "text": [
      "44005\n",
      "14669\n"
     ]
    }
   ],
   "source": [
    "from sklearn.model_selection import train_test_split\n",
    "sampled_train, sampled_test = train_test_split(sampled_data, test_size=0.25, random_state=0)\n",
    "\n",
    "print(len(sampled_train)) # 59604 출력\n",
    "print(len(sampled_test)) # 19869 출력"
   ]
  },
  {
   "cell_type": "code",
   "execution_count": 15,
   "id": "b59008cb-517b-4a11-b2ec-0c6d6b813fc0",
   "metadata": {},
   "outputs": [
    {
     "name": "stdout",
     "output_type": "stream",
     "text": [
      "WARNING:tensorflow:From C:\\Users\\user\\AppData\\Local\\Programs\\Python\\Python310\\lib\\site-packages\\keras\\src\\losses.py:2976: The name tf.losses.sparse_softmax_cross_entropy is deprecated. Please use tf.compat.v1.losses.sparse_softmax_cross_entropy instead.\n",
      "\n"
     ]
    }
   ],
   "source": [
    "from tensorflow.keras.preprocessing.text import Tokenizer\n",
    "from tensorflow.keras.preprocessing.sequence import pad_sequences\n",
    "\n",
    "# 토큰화 및 패딩\n",
    "tokenizer = Tokenizer()\n",
    "tokenizer.fit_on_texts(sampled_train['NewsContent'])\n",
    "total_words = len(tokenizer.word_index) + 1\n",
    "\n",
    "input_sequences_train = tokenizer.texts_to_sequences(sampled_train['NewsContent'])\n",
    "input_sequences_test = tokenizer.texts_to_sequences(sampled_test['NewsContent'])\n",
    "\n",
    "# 최대 시퀀스 길이를 찾기\n",
    "max_sequence_length = max(\n",
    "    max(len(seq) for seq in input_sequences_train),\n",
    "    max(len(seq) for seq in input_sequences_test)\n",
    ")\n",
    "\n",
    "# 시퀀스에 패딩 추가\n",
    "padded_sequences_train = pad_sequences(input_sequences_train, maxlen=max_sequence_length, padding='post')\n",
    "padded_sequences_test = pad_sequences(input_sequences_test, maxlen=max_sequence_length, padding='post')\n"
   ]
  },
  {
   "cell_type": "code",
   "execution_count": 18,
   "id": "119c3134-8d59-4ebd-8c82-0a1f4ba29f55",
   "metadata": {
    "scrolled": true
   },
   "outputs": [
    {
     "name": "stdout",
     "output_type": "stream",
     "text": [
      "Epoch 1/5\n",
      "WARNING:tensorflow:From C:\\Users\\user\\AppData\\Local\\Programs\\Python\\Python310\\lib\\site-packages\\keras\\src\\utils\\tf_utils.py:492: The name tf.ragged.RaggedTensorValue is deprecated. Please use tf.compat.v1.ragged.RaggedTensorValue instead.\n",
      "\n",
      "WARNING:tensorflow:From C:\\Users\\user\\AppData\\Local\\Programs\\Python\\Python310\\lib\\site-packages\\keras\\src\\engine\\base_layer_utils.py:384: The name tf.executing_eagerly_outside_functions is deprecated. Please use tf.compat.v1.executing_eagerly_outside_functions instead.\n",
      "\n",
      "1101/1101 [==============================] - 1125s 1s/step - loss: 1.2938 - accuracy: 0.4935 - val_loss: 1.2867 - val_accuracy: 0.4926\n",
      "Epoch 2/5\n",
      "1101/1101 [==============================] - 1133s 1s/step - loss: 1.2834 - accuracy: 0.4940 - val_loss: 1.2869 - val_accuracy: 0.4926\n",
      "Epoch 3/5\n",
      "1101/1101 [==============================] - 1145s 1s/step - loss: 1.2823 - accuracy: 0.4974 - val_loss: 1.2863 - val_accuracy: 0.4926\n",
      "Epoch 4/5\n",
      "1101/1101 [==============================] - 1135s 1s/step - loss: 1.2820 - accuracy: 0.4974 - val_loss: 1.2846 - val_accuracy: 0.4926\n",
      "Epoch 5/5\n",
      "1101/1101 [==============================] - 1142s 1s/step - loss: 1.2812 - accuracy: 0.4974 - val_loss: 1.2845 - val_accuracy: 0.4926\n"
     ]
    },
    {
     "data": {
      "text/plain": [
       "<keras.src.callbacks.History at 0x15f47251db0>"
      ]
     },
     "execution_count": 18,
     "metadata": {},
     "output_type": "execute_result"
    }
   ],
   "source": [
    "from tensorflow.keras.models import Sequential\n",
    "from tensorflow.keras.layers import Embedding, LSTM, Dense\n",
    "from tensorflow.keras.layers import Flatten\n",
    "\n",
    "from tensorflow.keras.utils import to_categorical\n",
    "\n",
    "# 모델 구성\n",
    "vocab_size = len(tokenizer.word_index) + 1\n",
    "embedding_dim = 100\n",
    "\n",
    "clickbait_model = Sequential()\n",
    "clickbait_model.add(Embedding(input_dim=vocab_size, output_dim=embedding_dim, input_length=max_sequence_length))\n",
    "clickbait_model.add(LSTM(128))\n",
    "clickbait_model.add(Dense(len(label_encoder.classes_), activation='softmax'))\n",
    "\n",
    "# 모델 컴파일\n",
    "clickbait_model.compile(optimizer='adam', loss='categorical_crossentropy', metrics=['accuracy'])\n",
    "\n",
    "y_train_one_hot = to_categorical(sampled_train['newsPattern'].values, num_classes=len(label_encoder.classes_))\n",
    "y_test_one_hot = to_categorical(sampled_test['newsPattern'].values, num_classes=len(label_encoder.classes_))\n",
    "\n",
    "clickbait_model.fit(padded_sequences_train, y_train_one_hot, epochs=5, batch_size=32, validation_split=0.2)"
   ]
  },
  {
   "cell_type": "code",
   "execution_count": 20,
   "id": "cdf9669f-13e7-4aea-87a6-5f1d5a4e27ed",
   "metadata": {},
   "outputs": [
    {
     "name": "stdout",
     "output_type": "stream",
     "text": [
      "459/459 [==============================] - 63s 137ms/step - loss: 1.2967 - accuracy: 0.4806\n",
      "Test Loss: 1.2967\n",
      "Test Accuracy: 0.4806\n"
     ]
    }
   ],
   "source": [
    "# 테스트 데이터와 레이블 준비\n",
    "X_test = padded_sequences_test\n",
    "y_test = sampled_test['newsPattern'].values\n",
    "\n",
    "# 모델 평가\n",
    "loss, accuracy = clickbait_model.evaluate(X_test, to_categorical(y_test, num_classes=len(label_encoder.classes_)))\n",
    "print(f'Test Loss: {loss:.4f}')\n",
    "print(f'Test Accuracy: {accuracy:.4f}')"
   ]
  },
  {
   "cell_type": "code",
   "execution_count": 28,
   "id": "8d1a9bb1-2988-4dc5-b923-2b324d586ec5",
   "metadata": {},
   "outputs": [
    {
     "name": "stdout",
     "output_type": "stream",
     "text": [
      "459/459 [==============================] - 64s 140ms/step\n"
     ]
    },
    {
     "data": {
      "image/png": "[encoded data removed]",
      "text/plain": [
       "<Figure size 800x600 with 2 Axes>"
      ]
     },
     "metadata": {},
     "output_type": "display_data"
    },
    {
     "name": "stdout",
     "output_type": "stream",
     "text": [
      "              precision    recall  f1-score   support\n",
      "\n",
      "          00       0.48      1.00      0.65      7050\n",
      "          11       0.00      0.00      0.00       406\n",
      "          12       0.00      0.00      0.00       336\n",
      "          13       0.00      0.00      0.00        79\n",
      "          14       0.00      0.00      0.00        87\n",
      "          15       0.00      0.00      0.00       100\n",
      "          16       0.00      0.00      0.00        51\n",
      "          21       0.00      0.00      0.00       248\n",
      "          22       0.00      0.00      0.00       113\n",
      "          23       0.00      0.00      0.00       254\n",
      "          24       0.00      0.00      0.00       411\n",
      "          99       0.00      0.00      0.00      5534\n",
      "\n",
      "    accuracy                           0.48     14669\n",
      "   macro avg       0.04      0.08      0.05     14669\n",
      "weighted avg       0.23      0.48      0.31     14669\n",
      "\n"
     ]
    },
    {
     "name": "stderr",
     "output_type": "stream",
     "text": [
      "C:\\Users\\user\\AppData\\Local\\Programs\\Python\\Python310\\lib\\site-packages\\sklearn\\metrics\\_classification.py:1471: UndefinedMetricWarning: Precision and F-score are ill-defined and being set to 0.0 in labels with no predicted samples. Use `zero_division` parameter to control this behavior.\n",
      "  _warn_prf(average, modifier, msg_start, len(result))\n",
      "C:\\Users\\user\\AppData\\Local\\Programs\\Python\\Python310\\lib\\site-packages\\sklearn\\metrics\\_classification.py:1471: UndefinedMetricWarning: Precision and F-score are ill-defined and being set to 0.0 in labels with no predicted samples. Use `zero_division` parameter to control this behavior.\n",
      "  _warn_prf(average, modifier, msg_start, len(result))\n",
      "C:\\Users\\user\\AppData\\Local\\Programs\\Python\\Python310\\lib\\site-packages\\sklearn\\metrics\\_classification.py:1471: UndefinedMetricWarning: Precision and F-score are ill-defined and being set to 0.0 in labels with no predicted samples. Use `zero_division` parameter to control this behavior.\n",
      "  _warn_prf(average, modifier, msg_start, len(result))\n"
     ]
    }
   ],
   "source": [
    "from sklearn.metrics import confusion_matrix, classification_report\n",
    "import matplotlib.pyplot as plt\n",
    "import seaborn as sns\n",
    "\n",
    "# 예측값 생성\n",
    "y_pred_one_hot = clickbait_model.predict(X_test)\n",
    "# 각 예측값에서 가장 높은 확률을 가진 클래스 선택\n",
    "y_pred_encoded = y_pred_one_hot.argmax(axis=1)\n",
    "\n",
    "# 실제값과 예측값으로 컨퓨전 매트릭스 생성\n",
    "conf_matrix = confusion_matrix(sampled_test['newsPattern'], y_pred_encoded)  # 여기서 sampled_test로 수정\n",
    "plt.figure(figsize=(8, 6))\n",
    "sns.heatmap(conf_matrix, annot=True, fmt='d', cmap='Blues', xticklabels=label_encoder.classes_, yticklabels=label_encoder.classes_)\n",
    "plt.xlabel('Predicted')\n",
    "plt.ylabel('True')\n",
    "plt.title('Confusion Matrix')\n",
    "plt.show()\n",
    "\n",
    "# 분류 보고서 출력\n",
    "print(classification_report(sampled_test['newsPattern'], y_pred_encoded, target_names=label_encoder.classes_))  # 여기서 sampled_test로 수정\n"
   ]
  },
  {
   "cell_type": "code",
   "execution_count": null,
   "id": "64e905fb-07c7-439e-98a4-1ca338422a98",
   "metadata": {},
   "outputs": [],
   "source": []
  }
 ],
 "metadata": {
  "kernelspec": {
   "display_name": "Python 3 (ipykernel)",
   "language": "python",
   "name": "python3"
  },
  "language_info": {
   "codemirror_mode": {
    "name": "ipython",
    "version": 3
   },
   "file_extension": ".py",
   "mimetype": "text/x-python",
   "name": "python",
   "nbconvert_exporter": "python",
   "pygments_lexer": "ipython3",
   "version": "3.10.11"
  }
 },
 "nbformat": 4,
 "nbformat_minor": 5
}
